{
 "cells": [
  {
   "cell_type": "markdown",
   "metadata": {},
   "source": [
    "Resource: https://www.wikiart.org/\n",
    "\n",
    "* 爬風格： https://www.wikiart.org/en/paintings-by-style"
   ]
  },
  {
   "cell_type": "code",
   "execution_count": 1,
   "metadata": {},
   "outputs": [],
   "source": [
    "import pandas as pd\n",
    "from selenium import webdriver\n",
    "from selenium.webdriver.chrome.options import Options\n",
    "from webdriver_manager.chrome import ChromeDriverManager\n",
    "from selenium.webdriver.common.by import By\n",
    "import time\n",
    "import requests\n",
    "from bs4 import BeautifulSoup\n",
    "import pandas as pd \n",
    "import os\n",
    "from tqdm import tqdm\n",
    "import urllib.request\n",
    "from msedge.selenium_tools import Edge, EdgeOptions\n",
    "from selenium.webdriver.common.desired_capabilities import DesiredCapabilities\n"
   ]
  },
  {
   "cell_type": "code",
   "execution_count": 2,
   "metadata": {},
   "outputs": [],
   "source": [
    "# Primitivism 在 wikiart title 是 na-ve-art-primitivism\n",
    "# Mannerism 在 wikiart title 是 mannerism-late-renaissance\n",
    "\n",
    "BASE_URL = 'https://www.wikiart.org/en/paintings-by-style/'\n",
    "def convert_url(title):\n",
    "    # print(title)\n",
    "    if(title == 'Primitivism'):\n",
    "        return BASE_URL + 'na-ve-art-primitivism'\n",
    "    elif (title == 'Mannerism'):\n",
    "        return BASE_URL + 'mannerism-late-renaissance'\n",
    "    else:\n",
    "        # 兩字節的 title 空格換成 -\n",
    "        if(len(title.split(' ')) == 2):\n",
    "            title = title.replace(' ', '-')\n",
    "        return BASE_URL + title"
   ]
  },
  {
   "cell_type": "code",
   "execution_count": 3,
   "metadata": {},
   "outputs": [
    {
     "data": {
      "text/html": [
       "<div>\n",
       "<style scoped>\n",
       "    .dataframe tbody tr th:only-of-type {\n",
       "        vertical-align: middle;\n",
       "    }\n",
       "\n",
       "    .dataframe tbody tr th {\n",
       "        vertical-align: top;\n",
       "    }\n",
       "\n",
       "    .dataframe thead th {\n",
       "        text-align: right;\n",
       "    }\n",
       "</style>\n",
       "<table border=\"1\" class=\"dataframe\">\n",
       "  <thead>\n",
       "    <tr style=\"text-align: right;\">\n",
       "      <th></th>\n",
       "      <th>genre</th>\n",
       "      <th>paintings</th>\n",
       "      <th>crawl_url</th>\n",
       "    </tr>\n",
       "  </thead>\n",
       "  <tbody>\n",
       "    <tr>\n",
       "      <th>0</th>\n",
       "      <td>Impressionism</td>\n",
       "      <td>1370</td>\n",
       "      <td>https://www.wikiart.org/en/paintings-by-style/...</td>\n",
       "    </tr>\n",
       "    <tr>\n",
       "      <th>1</th>\n",
       "      <td>Post-Impressionism</td>\n",
       "      <td>1048</td>\n",
       "      <td>https://www.wikiart.org/en/paintings-by-style/...</td>\n",
       "    </tr>\n",
       "    <tr>\n",
       "      <th>2</th>\n",
       "      <td>Northern Renaissance</td>\n",
       "      <td>680</td>\n",
       "      <td>https://www.wikiart.org/en/paintings-by-style/...</td>\n",
       "    </tr>\n",
       "    <tr>\n",
       "      <th>3</th>\n",
       "      <td>Baroque</td>\n",
       "      <td>586</td>\n",
       "      <td>https://www.wikiart.org/en/paintings-by-style/...</td>\n",
       "    </tr>\n",
       "    <tr>\n",
       "      <th>4</th>\n",
       "      <td>Cubism</td>\n",
       "      <td>439</td>\n",
       "      <td>https://www.wikiart.org/en/paintings-by-style/...</td>\n",
       "    </tr>\n",
       "    <tr>\n",
       "      <th>5</th>\n",
       "      <td>Romanticism</td>\n",
       "      <td>388</td>\n",
       "      <td>https://www.wikiart.org/en/paintings-by-style/...</td>\n",
       "    </tr>\n",
       "    <tr>\n",
       "      <th>6</th>\n",
       "      <td>Primitivism</td>\n",
       "      <td>309</td>\n",
       "      <td>https://www.wikiart.org/en/paintings-by-style/...</td>\n",
       "    </tr>\n",
       "    <tr>\n",
       "      <th>7</th>\n",
       "      <td>High Renaissance</td>\n",
       "      <td>301</td>\n",
       "      <td>https://www.wikiart.org/en/paintings-by-style/...</td>\n",
       "    </tr>\n",
       "    <tr>\n",
       "      <th>8</th>\n",
       "      <td>Surrealism</td>\n",
       "      <td>241</td>\n",
       "      <td>https://www.wikiart.org/en/paintings-by-style/...</td>\n",
       "    </tr>\n",
       "    <tr>\n",
       "      <th>9</th>\n",
       "      <td>Expressionism</td>\n",
       "      <td>193</td>\n",
       "      <td>https://www.wikiart.org/en/paintings-by-style/...</td>\n",
       "    </tr>\n",
       "    <tr>\n",
       "      <th>10</th>\n",
       "      <td>Pop Art</td>\n",
       "      <td>181</td>\n",
       "      <td>https://www.wikiart.org/en/paintings-by-style/...</td>\n",
       "    </tr>\n",
       "    <tr>\n",
       "      <th>11</th>\n",
       "      <td>Symbolism</td>\n",
       "      <td>171</td>\n",
       "      <td>https://www.wikiart.org/en/paintings-by-style/...</td>\n",
       "    </tr>\n",
       "    <tr>\n",
       "      <th>12</th>\n",
       "      <td>Early Renaissance</td>\n",
       "      <td>164</td>\n",
       "      <td>https://www.wikiart.org/en/paintings-by-style/...</td>\n",
       "    </tr>\n",
       "    <tr>\n",
       "      <th>13</th>\n",
       "      <td>Proto Renaissance</td>\n",
       "      <td>119</td>\n",
       "      <td>https://www.wikiart.org/en/paintings-by-style/...</td>\n",
       "    </tr>\n",
       "    <tr>\n",
       "      <th>14</th>\n",
       "      <td>Mannerism</td>\n",
       "      <td>87</td>\n",
       "      <td>https://www.wikiart.org/en/paintings-by-style/...</td>\n",
       "    </tr>\n",
       "    <tr>\n",
       "      <th>15</th>\n",
       "      <td>Realism</td>\n",
       "      <td>59</td>\n",
       "      <td>https://www.wikiart.org/en/paintings-by-style/...</td>\n",
       "    </tr>\n",
       "    <tr>\n",
       "      <th>16</th>\n",
       "      <td>Abstract Expressionism</td>\n",
       "      <td>24</td>\n",
       "      <td>https://www.wikiart.org/en/paintings-by-style/...</td>\n",
       "    </tr>\n",
       "  </tbody>\n",
       "</table>\n",
       "</div>"
      ],
      "text/plain": [
       "                     genre  paintings  \\\n",
       "0            Impressionism       1370   \n",
       "1       Post-Impressionism       1048   \n",
       "2     Northern Renaissance        680   \n",
       "3                  Baroque        586   \n",
       "4                   Cubism        439   \n",
       "5              Romanticism        388   \n",
       "6              Primitivism        309   \n",
       "7         High Renaissance        301   \n",
       "8               Surrealism        241   \n",
       "9            Expressionism        193   \n",
       "10                 Pop Art        181   \n",
       "11               Symbolism        171   \n",
       "12       Early Renaissance        164   \n",
       "13       Proto Renaissance        119   \n",
       "14               Mannerism         87   \n",
       "15                 Realism         59   \n",
       "16  Abstract Expressionism         24   \n",
       "\n",
       "                                            crawl_url  \n",
       "0   https://www.wikiart.org/en/paintings-by-style/...  \n",
       "1   https://www.wikiart.org/en/paintings-by-style/...  \n",
       "2   https://www.wikiart.org/en/paintings-by-style/...  \n",
       "3   https://www.wikiart.org/en/paintings-by-style/...  \n",
       "4   https://www.wikiart.org/en/paintings-by-style/...  \n",
       "5   https://www.wikiart.org/en/paintings-by-style/...  \n",
       "6   https://www.wikiart.org/en/paintings-by-style/...  \n",
       "7   https://www.wikiart.org/en/paintings-by-style/...  \n",
       "8   https://www.wikiart.org/en/paintings-by-style/...  \n",
       "9   https://www.wikiart.org/en/paintings-by-style/...  \n",
       "10  https://www.wikiart.org/en/paintings-by-style/...  \n",
       "11  https://www.wikiart.org/en/paintings-by-style/...  \n",
       "12  https://www.wikiart.org/en/paintings-by-style/...  \n",
       "13  https://www.wikiart.org/en/paintings-by-style/...  \n",
       "14  https://www.wikiart.org/en/paintings-by-style/...  \n",
       "15  https://www.wikiart.org/en/paintings-by-style/...  \n",
       "16  https://www.wikiart.org/en/paintings-by-style/...  "
      ]
     },
     "execution_count": 3,
     "metadata": {},
     "output_type": "execute_result"
    }
   ],
   "source": [
    "'''\n",
    "網站圖畫數量太少，所以不爬的種類：\n",
    "    Neoplasticism  183\n",
    "    Byzantine 256\n",
    "    Renaissance 33\n",
    "    Suprematism 136\n",
    "'''\n",
    "\n",
    "artists = pd.read_csv('../artists.csv',usecols=['name', 'genre','paintings'])\n",
    "\n",
    "for i in range(len(artists)):\n",
    "    temp_data = artists.loc[i,'genre']\n",
    "    temp_data = temp_data.split(',')\n",
    "    if(len(temp_data) <= 1):\n",
    "        pass\n",
    "    else:\n",
    "        artists.drop(index=i, inplace=True)\n",
    "artists_crawl_df = artists.groupby('genre').sum().sort_values(by='paintings',ascending=False)\n",
    "drop_genre = ['Neoplasticism', 'Byzantine Art', 'Renaissance','Suprematism']\n",
    "artists_crawl_df = artists_crawl_df[ ~artists_crawl_df.index.isin(drop_genre)].reset_index()\n",
    "artists_crawl_df['crawl_url'] = artists_crawl_df['genre'].apply(convert_url)\n",
    "artists_crawl_df"
   ]
  },
  {
   "cell_type": "code",
   "execution_count": 30,
   "metadata": {},
   "outputs": [],
   "source": [
    "artists_crawl_df.to_csv('genre.csv',index=False)"
   ]
  },
  {
   "cell_type": "code",
   "execution_count": 4,
   "metadata": {},
   "outputs": [],
   "source": [
    "# 先自己創立 ROOT_FOLDER\n",
    "ROOT_FOLDER_PATH = r'C:\\Users\\Stephanie Chung\\Documents\\NTUIM 2022 Fall\\深度學習實作應用\\Final Project\\Wikiart_webcrawl\\genre_data'\n",
    "\n",
    "for i in range(0,17):\n",
    "    genre = artists_crawl_df.loc[i,'genre']\n",
    "    url = artists_crawl_df.loc[i,'crawl_url']\n",
    "    # print(url)\n",
    "    \n",
    "    # 若不存在該種類則建立此資料夾\n",
    "    if not os.path.exists(os.path.join(ROOT_FOLDER_PATH, genre)):\n",
    "        os.makedirs(os.path.join(ROOT_FOLDER_PATH, genre))"
   ]
  },
  {
   "cell_type": "markdown",
   "metadata": {},
   "source": [
    "## 開始爬蟲"
   ]
  },
  {
   "cell_type": "code",
   "execution_count": 25,
   "metadata": {},
   "outputs": [
    {
     "name": "stdout",
     "output_type": "stream",
     "text": [
      "Abstract Expressionism\n"
     ]
    },
    {
     "name": "stderr",
     "output_type": "stream",
     "text": [
      "C:\\Users\\STEPHA~1\\AppData\\Local\\Temp/ipykernel_14844/3171390948.py:10: DeprecationWarning: Selenium Tools for Microsoft Edge is deprecated. Please upgrade to Selenium 4 which has built-in support for Microsoft Edge (Chromium): https://docs.microsoft.com/en-us/microsoft-edge/webdriver-chromium/#upgrading-from-selenium-3\n",
      "  driver = Edge(executable_path = r\"C:\\Users\\Stephanie Chung\\Desktop\\msedgedriver.exe\", options = options,desired_capabilities=capabilities) # Modify the path here...\n"
     ]
    }
   ],
   "source": [
    "url = artists_crawl_df.loc[16,'crawl_url']\n",
    "store_folder = artists_crawl_df.loc[16,'genre']\n",
    "print(store_folder)\n",
    "options = EdgeOptions()\n",
    "options.use_chromium = True\n",
    "#options.add_argument(\"-inprivate\")\n",
    "options.binary_location = r\"C:\\Program Files (x86)\\Microsoft\\Edge\\Application\\msedge.exe\"\n",
    "capabilities = DesiredCapabilities.EDGE\n",
    "\n",
    "driver = Edge(executable_path = r\"C:\\Users\\Stephanie Chung\\Desktop\\msedgedriver.exe\", options = options,desired_capabilities=capabilities) # Modify the path here...\n",
    "\n",
    "driver.get(url) \n",
    "\n",
    "for num in range(0,8):\n",
    "    check_height = driver.execute_script(\"return document.body.scrollHeight;\") \n",
    "    current_height = driver.execute_script(\"return window.pageYOffset + window.innerHeight\")\n",
    "    print(num)\n",
    "    # print(height)\n",
    "    # 因為 lazy loading，所以要慢慢滑讀資料\n",
    "    for i in range(int(current_height),check_height):\n",
    "        driver.execute_script(f\"window.scrollTo({current_height},{i})\")\n",
    "\n",
    "    # download the image\n",
    "    soup = BeautifulSoup(driver.page_source, \"html.parser\")\n",
    "    data = soup.find(class_=\"masonry-content\").find('ul').find_all('li')\n",
    "    for img in data:\n",
    "        img_src = img.find('img').get('src')\n",
    "        normal_img_src = img_src.split('!')[0]\n",
    "        save_src = normal_img_src.split('/')[-1]\n",
    "        save_path = fr'./genre_data/{store_folder}/' + str(save_src)\n",
    "        # urllib.request.urlretrieve(normal_img_src, save_path)\n",
    "        # print(path)\n",
    "    driver.find_elements(By.XPATH, \"//a[@class='masonry-load-more-button']\")[0].click()\n",
    "    time.sleep(10)"
   ]
  },
  {
   "cell_type": "code",
   "execution_count": 26,
   "metadata": {},
   "outputs": [],
   "source": [
    "\n",
    "soup = BeautifulSoup(driver.page_source, \"html.parser\")\n",
    "data = soup.find(class_=\"masonry-content\").find('ul').find_all('li')\n"
   ]
  },
  {
   "cell_type": "code",
   "execution_count": 27,
   "metadata": {},
   "outputs": [
    {
     "data": {
      "text/plain": [
       "360"
      ]
     },
     "execution_count": 27,
     "metadata": {},
     "output_type": "execute_result"
    }
   ],
   "source": [
    "len(data)"
   ]
  },
  {
   "cell_type": "code",
   "execution_count": 28,
   "metadata": {},
   "outputs": [
    {
     "name": "stderr",
     "output_type": "stream",
     "text": [
      "100%|██████████| 360/360 [12:54<00:00,  2.15s/it]\n"
     ]
    }
   ],
   "source": [
    "cnt = 0\n",
    "for img in tqdm(range(len(data))):\n",
    "    img_src = data[img].find('img').get('src')\n",
    "    normal_img_src = img_src.split('!')[0]\n",
    "    save_src = normal_img_src.split('/')[-1]\n",
    "    save_path = fr'./genre_data/{store_folder}/{cnt}.jpg'\n",
    "    try:\n",
    "        urllib.request.urlretrieve(normal_img_src, save_path)\n",
    "        cnt += 1\n",
    "    except:\n",
    "        print('error: ',img)\n",
    "        continue\n",
    "        # print(path)"
   ]
  }
 ],
 "metadata": {
  "kernelspec": {
   "display_name": "Python 3.9.7 ('base')",
   "language": "python",
   "name": "python3"
  },
  "language_info": {
   "codemirror_mode": {
    "name": "ipython",
    "version": 3
   },
   "file_extension": ".py",
   "mimetype": "text/x-python",
   "name": "python",
   "nbconvert_exporter": "python",
   "pygments_lexer": "ipython3",
   "version": "3.9.7"
  },
  "orig_nbformat": 4,
  "vscode": {
   "interpreter": {
    "hash": "d16ade73baeaddfef219199a3d3bc5157663164e33b15a18a4f81ca1ba68d45d"
   }
  }
 },
 "nbformat": 4,
 "nbformat_minor": 2
}
